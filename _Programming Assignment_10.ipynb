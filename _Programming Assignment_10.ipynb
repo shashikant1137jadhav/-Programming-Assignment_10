{
 "cells": [
  {
   "cell_type": "markdown",
   "id": "8a9fbe55",
   "metadata": {},
   "source": [
    "## 1. Write a Python program to find sum of elements in list?"
   ]
  },
  {
   "cell_type": "code",
   "execution_count": null,
   "id": "e6a1858c",
   "metadata": {},
   "outputs": [],
   "source": [
    "l1=eval(input('Enter the list in [] '))\n",
    "\n",
    "#print(sum(l1))              #This is using build in function sum\n",
    "\n",
    "#our own login\n",
    "s=0\n",
    "for i in range(0,len(l1)):\n",
    "    s=s+l1[i]\n",
    "\n",
    "print(f'the sum of all numbers in the list is {s}')\n",
    "\n",
    "        "
   ]
  },
  {
   "cell_type": "markdown",
   "id": "e7322f1e",
   "metadata": {},
   "source": [
    "## 2. Write a Python program to Multiply all numbers in the list?"
   ]
  },
  {
   "cell_type": "code",
   "execution_count": null,
   "id": "69eedc0c",
   "metadata": {},
   "outputs": [],
   "source": [
    "l2=eval(input('Enter the list in [] '))\n",
    "\n",
    "m=1\n",
    "for i in range(0,len(l2)):\n",
    "    m=m*l2[i]\n",
    "\n",
    "print(f'the multiplication of all numbers in the list is {m}')"
   ]
  },
  {
   "cell_type": "markdown",
   "id": "6cf4db66",
   "metadata": {},
   "source": [
    "## 3. Write a Python program to find smallest number in a list?"
   ]
  },
  {
   "cell_type": "code",
   "execution_count": null,
   "id": "68a1a8ee",
   "metadata": {},
   "outputs": [],
   "source": [
    "l3=eval(input('Enter the list in [] '))\n",
    "\n",
    "l3.sort()\n",
    "\n",
    "small=l3[0]\n",
    "print(f'the smallest number in a list is {small}')"
   ]
  },
  {
   "cell_type": "markdown",
   "id": "2477b694",
   "metadata": {},
   "source": [
    "## 4. Write a Python program to find largest number in a list?"
   ]
  },
  {
   "cell_type": "code",
   "execution_count": null,
   "id": "5b4a0c18",
   "metadata": {},
   "outputs": [],
   "source": [
    "l4=eval(input('Enter the list in [] '))\n",
    "\n",
    "l4.sort()\n",
    "\n",
    "large=l4[-1]\n",
    "print(f'the largest number in a list is {large}')"
   ]
  },
  {
   "cell_type": "markdown",
   "id": "b1be41b6",
   "metadata": {},
   "source": [
    "## 5. Write a Python program to find second largest number in a list?"
   ]
  },
  {
   "cell_type": "code",
   "execution_count": null,
   "id": "f7c6aa46",
   "metadata": {},
   "outputs": [],
   "source": [
    "l4=eval(input('Enter the list in [] '))\n",
    "\n",
    "l4.sort()\n",
    "\n",
    "large=l4[-2]\n",
    "print(f'the second largest number in a list is {large}')"
   ]
  },
  {
   "cell_type": "markdown",
   "id": "77f33ae9",
   "metadata": {},
   "source": [
    "## 6. Write a Python program to find N largest elements from a list?"
   ]
  },
  {
   "cell_type": "code",
   "execution_count": null,
   "id": "c5ddf31d",
   "metadata": {},
   "outputs": [],
   "source": [
    "l5=eval(input('Enter the list in [] '))\n",
    "n=int(input('How many largest numbers do you want '))\n",
    "\n",
    "if n<=len(l5):\n",
    "    l5.sort(reverse=True)\n",
    "    for i in range(n):\n",
    "        print(l5[i])\n",
    "else:\n",
    "    print('the given N largest elements is greater than length of list')"
   ]
  },
  {
   "cell_type": "markdown",
   "id": "ff1d73f3",
   "metadata": {},
   "source": [
    "## 7. Write a Python program to print even numbers in a list?"
   ]
  },
  {
   "cell_type": "code",
   "execution_count": null,
   "id": "6cf755e1",
   "metadata": {},
   "outputs": [],
   "source": [
    "l5=eval(input('Enter the list in [] '))\n",
    "for i in range(len(l5)):\n",
    "    if l5[i]%2==0:\n",
    "        print(l5[i])    "
   ]
  },
  {
   "cell_type": "markdown",
   "id": "c8f9bb85",
   "metadata": {},
   "source": [
    "## 8. Write a Python program to print odd numbers in a List?"
   ]
  },
  {
   "cell_type": "code",
   "execution_count": null,
   "id": "a05c0381",
   "metadata": {},
   "outputs": [],
   "source": [
    "l5=eval(input('Enter the list in [] '))\n",
    "for i in range(len(l5)):\n",
    "    if l5[i]%2==0:\n",
    "        pass\n",
    "    else:\n",
    "         print(l5[i])   \n",
    "       "
   ]
  },
  {
   "cell_type": "markdown",
   "id": "c17e7072",
   "metadata": {},
   "source": [
    "## 9. Write a Python program to Remove empty List from List?"
   ]
  },
  {
   "cell_type": "code",
   "execution_count": null,
   "id": "3184f516",
   "metadata": {},
   "outputs": [],
   "source": [
    "l6=[1,2,[1,2],[]]\n",
    "\n",
    "#we can take mannually also\n",
    "#l6=eval(input('Enter the list in [] '))\n",
    "\n",
    "l7=[]\n",
    "for i in range(len(l6)):\n",
    "    if l6[i]:\n",
    "        l7.append(l6[i])\n",
    "print(l7)"
   ]
  },
  {
   "cell_type": "markdown",
   "id": "04fd723a",
   "metadata": {},
   "source": [
    "## 10. Write a Python program to Cloning or Copying a list?"
   ]
  },
  {
   "cell_type": "code",
   "execution_count": null,
   "id": "0d2287ec",
   "metadata": {},
   "outputs": [],
   "source": [
    "import copy\n",
    "\n",
    "l8 = [1, 2, [3,5], 4]\n",
    "\n",
    "#we can take mannually also\n",
    "#l8=eval(input('Enter the list in [] '))\n",
    "    \n",
    "l9 = copy.copy(8)\n",
    "  \n",
    "print(l9)"
   ]
  },
  {
   "cell_type": "markdown",
   "id": "a0a83c3e",
   "metadata": {},
   "source": [
    "## 11. Write a Python program to Count occurrences of an element in a list?"
   ]
  },
  {
   "cell_type": "code",
   "execution_count": null,
   "id": "fb1a83e3",
   "metadata": {},
   "outputs": [],
   "source": [
    "l10=eval(input('Enter the list in [] '))\n",
    "n=int(input('which element you want to count '))\n",
    "c=0\n",
    "for i in range(len(l10)):\n",
    "    if n==l10[i]:\n",
    "        c=c+1\n",
    "\n",
    "print(f'{n} occurs in list {c} times')"
   ]
  }
 ],
 "metadata": {
  "kernelspec": {
   "display_name": "Python 3 (ipykernel)",
   "language": "python",
   "name": "python3"
  },
  "language_info": {
   "codemirror_mode": {
    "name": "ipython",
    "version": 3
   },
   "file_extension": ".py",
   "mimetype": "text/x-python",
   "name": "python",
   "nbconvert_exporter": "python",
   "pygments_lexer": "ipython3",
   "version": "3.9.12"
  }
 },
 "nbformat": 4,
 "nbformat_minor": 5
}
